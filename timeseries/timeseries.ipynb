{
 "cells": [
  {
   "cell_type": "code",
   "execution_count": 1,
   "id": "d63c487d",
   "metadata": {},
   "outputs": [],
   "source": [
    "# Load modules\n",
    "import matplotlib.pyplot as plt\n",
    "import numpy as np\n",
    "import sys\n",
    "from pathlib import Path\n",
    "import matplotlib.dates as mdates\n",
    "import psyplot.project as psy\n",
    "\n",
    "from iconarray.plot import formatoptions # import plotting formatoptions (for use with psyplot)\n",
    "import iconarray as iconvis # import self-written modules from iconarray"
   ]
  },
  {
   "cell_type": "code",
   "execution_count": 2,
   "id": "61fd4f29",
   "metadata": {},
   "outputs": [
    {
     "name": "stdout",
     "output_type": "stream",
     "text": [
      "('/', 'scratch-shared', 'meteoswiss', 'scratch', 'vcherkas', 'icon-vis', 'timeseries')\n",
      " \n",
      "Getting data from folder: grib\n",
      " \n",
      "Getting data from folder: grids\n",
      " \n",
      "Getting data from folder: nc\n"
     ]
    }
   ],
   "source": [
    "# Get example datasets for testing\n",
    "iconvis.get_example_data()"
   ]
  },
  {
   "cell_type": "code",
   "execution_count": 3,
   "id": "dab97dac",
   "metadata": {},
   "outputs": [
    {
     "name": "stdout",
     "output_type": "stream",
     "text": [
      "The grid information is available\n"
     ]
    }
   ],
   "source": [
    "# Read in nc file\n",
    "\n",
    "# If the nc file is missing grid information (no variables clon_bnds and clat_bnds),\n",
    "# the information needs to be added with a grid file.\n",
    "# The module \"grid\" contains a function to check if the grid information is available and a function to add it.\n",
    "\n",
    "# Enter the path to your nc file or use one of the example datasets:\n",
    "nc_file = '../data/example_data/nc/lfff01000000.nc'\n",
    "nc_file = '../data/example_data/nc/my_exp1_atm_3d_ml_20180921T000000Z.nc'\n",
    "# If necessary, add the corresponding grid file:\n",
    "grid_file = '../data/example_data/grids/ICON-1E_DOM01.nc'\n",
    "\n",
    "if iconvis.check_grid_information(nc_file):\n",
    "    print('The grid information is available')\n",
    "    data = psy.open_dataset(nc_file)\n",
    "else:\n",
    "    print('The grid information is not available')\n",
    "    data = iconvis.add_grid_information(nc_file,grid_file) # if add_grid_information fails, import and use combine_grid_information"
   ]
  },
  {
   "cell_type": "code",
   "execution_count": 4,
   "id": "a0047d98",
   "metadata": {},
   "outputs": [
    {
     "name": "stdout",
     "output_type": "stream",
     "text": [
      "clon\n",
      "clon_bnds\n",
      "clat\n",
      "clat_bnds\n",
      "elon\n",
      "elon_bnds\n",
      "elat\n",
      "elat_bnds\n",
      "height\n",
      "height_bnds\n",
      "height_2\n",
      "height_3\n",
      "depth\n",
      "depth_2\n",
      "depth_2_bnds\n",
      "depth_3\n",
      "depth_3_bnds\n",
      "height_4\n",
      "depth_4\n",
      "depth_4_bnds\n",
      "time\n",
      "u\n",
      "v\n",
      "vt\n",
      "qc\n",
      "qi\n",
      "qr\n",
      "qs\n",
      "qv\n",
      "rho\n",
      "theta_v\n",
      "tke\n",
      "vn\n",
      "w\n",
      "ddt_vn_phy\n",
      "ddt_exner_phy\n",
      "ddt_temp_dyn\n",
      "exner_pr\n",
      "exner_dyn_incr\n",
      "pres_sfc\n",
      "ddt_pres_sfc\n",
      "temp\n",
      "tempv\n",
      "temp_ifc\n",
      "pres\n",
      "pres_ifc\n",
      "dpres_mc\n",
      "omega\n",
      "div\n",
      "div_ic\n",
      "hdef_ic\n",
      "dwdx\n",
      "dwdy\n",
      "vor\n",
      "mass_fl_e\n",
      "rho_ic\n",
      "w_concorr_c\n",
      "theta_v_ic\n",
      "vn_ie\n",
      "tqv\n",
      "tqc\n",
      "tqi\n",
      "tqr\n",
      "tqs\n",
      "rain_gsp_rate\n",
      "rain_gsp\n",
      "tot_prec\n",
      "cape\n",
      "cape_ml\n",
      "cin_ml\n",
      "gust10\n",
      "dyn_gust\n",
      "clct_mod\n",
      "cldepth\n",
      "tot_qv_dia\n",
      "tot_qc_dia\n",
      "tot_qi_dia\n",
      "tqv_dia\n",
      "tqc_dia\n",
      "tqi_dia\n",
      "avg_qv\n",
      "avg_qc\n",
      "avg_qi\n",
      "tsfctrad\n",
      "thbclr_s\n",
      "thb_t\n",
      "thb_s\n",
      "thu_s\n",
      "lwflxall\n",
      "t_s\n",
      "t_sk\n",
      "t_so\n",
      "runoff_s\n",
      "lwflx_up\n",
      "lwflx_dn\n",
      "lwflx_up_clr\n",
      "lwflx_dn_clr\n",
      "shfl_s\n",
      "lhfl_s\n",
      "lhfl_bs\n",
      "lhfl_pl\n",
      "qhfl_s\n",
      "qcfl_s\n",
      "t_2m\n",
      "qv_2m\n",
      "rh_2m\n",
      "td_2m\n",
      "u_10m\n",
      "v_10m\n",
      "sp_10m\n",
      "umfl_s\n",
      "vmfl_s\n",
      "str_u_sso\n",
      "str_v_sso\n",
      "drag_u_grid\n",
      "ddt_temp_radlw\n",
      "ddt_temp_turb\n",
      "ddt_temp_drag\n",
      "ddt_temp_pconv\n",
      "ddt_u_turb\n",
      "ddt_u_sso\n",
      "ddt_u_pconv\n",
      "ddt_v_turb\n",
      "ddt_v_sso\n",
      "ddt_qv_turb\n",
      "ddt_qc_turb\n",
      "ddt_qv_conv\n",
      "ddt_qc_conv\n",
      "ddt_tke\n",
      "ddt_tke_pconv\n",
      "ddt_tke_hsh\n",
      "qv_s\n",
      "runoff_g\n",
      "plantevap\n",
      "t_snow\n",
      "rho_snow\n",
      "h_snow\n",
      "freshsnow\n",
      "ddt_vn_adv\n",
      "ddt_w_adv\n",
      "exner\n"
     ]
    }
   ],
   "source": [
    "# Check which variables are available\n",
    "for var in data.variables:\n",
    "    print(var)"
   ]
  },
  {
   "cell_type": "code",
   "execution_count": 5,
   "id": "6139c37f",
   "metadata": {},
   "outputs": [],
   "source": [
    "# Load data\n",
    "var_name = 'u'\n",
    "var_field = getattr(data,var_name)\n",
    "values = var_field.values\n",
    "if 'height' in var_field.dims[1]: \n",
    "        height = 0 # specify height index\n",
    "        var = values[:,height,:]\n",
    "else:\n",
    "    var = values\n",
    "time = data.time.values[:]"
   ]
  },
  {
   "cell_type": "code",
   "execution_count": 6,
   "id": "4c765743",
   "metadata": {},
   "outputs": [],
   "source": [
    "# Get mean over whole map\n",
    "var_mean = var.mean(axis=1)"
   ]
  },
  {
   "cell_type": "code",
   "execution_count": 7,
   "id": "4a662663",
   "metadata": {
    "scrolled": true
   },
   "outputs": [
    {
     "name": "stdout",
     "output_type": "stream",
     "text": [
      "Closest ind: 3352\n",
      " Given lat: 47.380 vs found lat: 47.372\n",
      " Given lon: 8.540 vs found lon: 8.527\n"
     ]
    }
   ],
   "source": [
    "# Get values of grid cell closest to coordinate\n",
    "# E.g. Zürich:\n",
    "lon = 8.54\n",
    "lat = 47.38\n",
    "lats = np.rad2deg(data.clat.values[:])\n",
    "lons = np.rad2deg(data.clon.values[:])\n",
    "ind = iconvis.ind_from_latlon(lats,lons,lat,lon,verbose=True)\n",
    "var_coord = var[:,ind]"
   ]
  },
  {
   "cell_type": "code",
   "execution_count": 8,
   "id": "13c6c307",
   "metadata": {},
   "outputs": [
    {
     "data": {
      "image/png": "[encoded data removed]",
      "text/plain": [
       "<Figure size 432x288 with 1 Axes>"
      ]
     },
     "metadata": {
      "needs_background": "light"
     },
     "output_type": "display_data"
    }
   ],
   "source": [
    "# Create plot of var_mean                                                                                                               \n",
    "f, ax = plt.subplots(1,1)                                                                                                       \n",
    "h = ax.plot(time, var_mean, lw=2)\n",
    "ax.set_ylabel('Wind speed (m/s)')\n",
    "ax.set_xlabel('Time') \n",
    "ax.set_title('Wind speed over time', fontsize=14) \n",
    "# Set date format\n",
    "date_format = '%Y-%m-%d %H:%M'\n",
    "myFmt = mdates.DateFormatter(date_format)                                                                                        \n",
    "ax.xaxis.set_major_formatter(myFmt)\n",
    "# Rotate ticks\n",
    "plt.xticks(rotation=45);"
   ]
  },
  {
   "cell_type": "code",
   "execution_count": 9,
   "id": "c713caa7",
   "metadata": {},
   "outputs": [
    {
     "data": {
      "image/png": "[encoded data removed]",
      "text/plain": [
       "<Figure size 432x288 with 1 Axes>"
      ]
     },
     "metadata": {
      "needs_background": "light"
     },
     "output_type": "display_data"
    }
   ],
   "source": [
    "# Create plot of var_coord                                                                                                            \n",
    "f, ax = plt.subplots(1,1)                                                                                                      \n",
    "h = ax.plot(time, var_coord, lw=2)\n",
    "ax.set_ylabel('Wind speed (m/s)')\n",
    "ax.set_xlabel('Time') \n",
    "ax.set_title('Wind speed over time', fontsize=14) \n",
    "# Set date format\n",
    "date_format = '%Y-%m-%d %H:%M'\n",
    "myFmt = mdates.DateFormatter(date_format)                                                                                        \n",
    "ax.xaxis.set_major_formatter(myFmt)\n",
    "# Rotate ticks\n",
    "plt.xticks(rotation=45);"
   ]
  }
 ],
 "metadata": {
  "kernelspec": {
   "display_name": "Python 3 (ipykernel)",
   "language": "python",
   "name": "python3"
  },
  "language_info": {
   "codemirror_mode": {
    "name": "ipython",
    "version": 3
   },
   "file_extension": ".py",
   "mimetype": "text/x-python",
   "name": "python",
   "nbconvert_exporter": "python",
   "pygments_lexer": "ipython3",
   "version": "3.9.7"
  }
 },
 "nbformat": 4,
 "nbformat_minor": 5
}

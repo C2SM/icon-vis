{
 "cells": [
  {
   "cell_type": "code",
   "execution_count": 1,
   "id": "d63c487d",
   "metadata": {},
   "outputs": [],
   "source": [
    "# Load modules\n",
    "import matplotlib.pyplot as plt\n",
    "import numpy as np\n",
    "import sys\n",
    "import matplotlib as mpl\n",
    "from pathlib import Path\n",
    "import matplotlib.dates as mdates\n",
    "import psyplot.project as psy\n",
    "import six\n",
    "data_dir = Path(Path.cwd().parent,'example_datasets')\n",
    "sys.path.insert(1,str(data_dir))\n",
    "from get_data import *"
   ]
  },
  {
   "cell_type": "code",
   "execution_count": 2,
   "id": "61fd4f29",
   "metadata": {},
   "outputs": [],
   "source": [
    "# Get example datasets for testing\n",
    "get_data()"
   ]
  },
  {
   "cell_type": "raw",
   "id": "85a8fd8d",
   "metadata": {},
   "source": [
    "Run one of the two following cells depending on if the nc file contains grid information or the grid information has to be added (don't run both!)"
   ]
  },
  {
   "cell_type": "code",
   "execution_count": null,
   "id": "dab97dac",
   "metadata": {},
   "outputs": [],
   "source": [
    "# Read in nc file and a file containing the corresponding grid information\n",
    "\n",
    "# Function for encoding\n",
    "def add_encoding(obj):\n",
    "    obj.encoding['coordinates'] = 'clat clon'\n",
    "\n",
    "grid_ds = psy.open_dataset('../example_datasets/ICON-1E_DOM01.nc')\n",
    "icon_ds = psy.open_dataset('../example_datasets/lfff01000000.nc').squeeze()\n",
    "data = icon_ds.rename({\"ncells\":\"cell\"}).merge(grid_ds)\n",
    "for k, v in six.iteritems(data.data_vars):\n",
    "    add_encoding(v) "
   ]
  },
  {
   "cell_type": "code",
   "execution_count": 3,
   "id": "fbc2bbcb",
   "metadata": {},
   "outputs": [],
   "source": [
    "# Read in nc file that contains grid information\n",
    "\n",
    "input_file = '../example_datasets/my_exp1_atm_3d_ml_20180921T000000Z.nc'\n",
    "data = psy.open_dataset(input_file)"
   ]
  },
  {
   "cell_type": "code",
   "execution_count": 4,
   "id": "a0047d98",
   "metadata": {},
   "outputs": [
    {
     "name": "stdout",
     "output_type": "stream",
     "text": [
      "clon\n",
      "clon_bnds\n",
      "clat\n",
      "clat_bnds\n",
      "elon\n",
      "elon_bnds\n",
      "elat\n",
      "elat_bnds\n",
      "height\n",
      "height_bnds\n",
      "height_2\n",
      "height_3\n",
      "depth\n",
      "depth_2\n",
      "depth_2_bnds\n",
      "depth_3\n",
      "depth_3_bnds\n",
      "height_4\n",
      "depth_4\n",
      "depth_4_bnds\n",
      "time\n",
      "u\n",
      "v\n",
      "vt\n",
      "qc\n",
      "qi\n",
      "qr\n",
      "qs\n",
      "qv\n",
      "rho\n",
      "theta_v\n",
      "tke\n",
      "vn\n",
      "w\n",
      "ddt_vn_phy\n",
      "ddt_exner_phy\n",
      "ddt_temp_dyn\n",
      "exner_pr\n",
      "exner_dyn_incr\n",
      "pres_sfc\n",
      "ddt_pres_sfc\n",
      "temp\n",
      "tempv\n",
      "temp_ifc\n",
      "pres\n",
      "pres_ifc\n",
      "dpres_mc\n",
      "omega\n",
      "div\n",
      "div_ic\n",
      "hdef_ic\n",
      "dwdx\n",
      "dwdy\n",
      "vor\n",
      "mass_fl_e\n",
      "rho_ic\n",
      "w_concorr_c\n",
      "theta_v_ic\n",
      "vn_ie\n",
      "tqv\n",
      "tqc\n",
      "tqi\n",
      "tqr\n",
      "tqs\n",
      "rain_gsp_rate\n",
      "rain_gsp\n",
      "tot_prec\n",
      "cape\n",
      "cape_ml\n",
      "cin_ml\n",
      "gust10\n",
      "dyn_gust\n",
      "clct_mod\n",
      "cldepth\n",
      "tot_qv_dia\n",
      "tot_qc_dia\n",
      "tot_qi_dia\n",
      "tqv_dia\n",
      "tqc_dia\n",
      "tqi_dia\n",
      "avg_qv\n",
      "avg_qc\n",
      "avg_qi\n",
      "tsfctrad\n",
      "thbclr_s\n",
      "thb_t\n",
      "thb_s\n",
      "thu_s\n",
      "lwflxall\n",
      "t_s\n",
      "t_sk\n",
      "t_so\n",
      "runoff_s\n",
      "lwflx_up\n",
      "lwflx_dn\n",
      "lwflx_up_clr\n",
      "lwflx_dn_clr\n",
      "shfl_s\n",
      "lhfl_s\n",
      "lhfl_bs\n",
      "lhfl_pl\n",
      "qhfl_s\n",
      "qcfl_s\n",
      "t_2m\n",
      "qv_2m\n",
      "rh_2m\n",
      "td_2m\n",
      "u_10m\n",
      "v_10m\n",
      "sp_10m\n",
      "umfl_s\n",
      "vmfl_s\n",
      "str_u_sso\n",
      "str_v_sso\n",
      "drag_u_grid\n",
      "ddt_temp_radlw\n",
      "ddt_temp_turb\n",
      "ddt_temp_drag\n",
      "ddt_temp_pconv\n",
      "ddt_u_turb\n",
      "ddt_u_sso\n",
      "ddt_u_pconv\n",
      "ddt_v_turb\n",
      "ddt_v_sso\n",
      "ddt_qv_turb\n",
      "ddt_qc_turb\n",
      "ddt_qv_conv\n",
      "ddt_qc_conv\n",
      "ddt_tke\n",
      "ddt_tke_pconv\n",
      "ddt_tke_hsh\n",
      "qv_s\n",
      "runoff_g\n",
      "plantevap\n",
      "t_snow\n",
      "rho_snow\n",
      "h_snow\n",
      "freshsnow\n",
      "ddt_vn_adv\n",
      "ddt_w_adv\n",
      "exner\n"
     ]
    }
   ],
   "source": [
    "# Check which variables are available\n",
    "for var in data.variables:\n",
    "    print(var)"
   ]
  },
  {
   "cell_type": "code",
   "execution_count": 5,
   "id": "6139c37f",
   "metadata": {},
   "outputs": [],
   "source": [
    "# Load data\n",
    "var_name = 'u'\n",
    "var_field = getattr(data,var_name)\n",
    "values = var_field.values\n",
    "if 'height' in var_field.dims[1]: \n",
    "        height = 0 # specify height index\n",
    "        var = values[:,height,:]\n",
    "else:\n",
    "    var = values\n",
    "time = data.time.values[:]"
   ]
  },
  {
   "cell_type": "code",
   "execution_count": 6,
   "id": "4c765743",
   "metadata": {},
   "outputs": [],
   "source": [
    "# Get mean over whole map\n",
    "var_mean = var.mean(axis=1)"
   ]
  },
  {
   "cell_type": "code",
   "execution_count": 7,
   "id": "4a662663",
   "metadata": {
    "scrolled": true
   },
   "outputs": [
    {
     "name": "stdout",
     "output_type": "stream",
     "text": [
      "Closest ind: 3352\n",
      " Given lat: 47.380 vs found lat: 47.372\n",
      " Given lon: 8.540 vs found lon: 8.527\n"
     ]
    }
   ],
   "source": [
    "# Get values of grid cell closest to coordinate\n",
    "# E.g. Zürich:\n",
    "lon = 8.54\n",
    "lat = 47.38\n",
    "def ind_from_latlon(lats, lons, lat, lon, verbose=False):                                                                    \n",
    "    \"\"\"Find the nearest neighbouring index to given location.                                                                \n",
    "    Args:                                                                                                                    \n",
    "        lats (2d array):            Latitude grid                                                                            \n",
    "        lons (2d array):            Longitude grid                                                                           \n",
    "        lat (float):                Latitude of location                                                                     \n",
    "        lon (float):                Longitude of location                                                                    \n",
    "        verbose (bool, optional):   Print information. Defaults to False.                                                    \n",
    "    Returns:                                                                                                                 \n",
    "        int     Index of nearest grid point.                                                                                 \n",
    "    \"\"\"                                                                                                                      \n",
    "    dist = [                                                                                                                 \n",
    "        np.sqrt((lats[i] - lat) ** 2 + (lons[i] - lon) ** 2) for i in range(len(lats))                                       \n",
    "    ]                                                                                                                        \n",
    "    ind = np.where(dist == np.min(dist))[0][0]                                                                               \n",
    "    if verbose:                                                                                                              \n",
    "        print(f\"Closest ind: {ind}\")                                                                                         \n",
    "        print(f\" Given lat: {lat:.3f} vs found lat: {lats[ind]:.3f}\")                                                        \n",
    "        print(f\" Given lon: {lon:.3f} vs found lon: {lons[ind]:.3f}\")                                                        \n",
    "    return ind \n",
    "\n",
    "lats = np.rad2deg(data.clat.values[:])\n",
    "lons = np.rad2deg(data.clon.values[:])\n",
    "ind = ind_from_latlon(lats,lons,lat,lon,verbose=True)\n",
    "var_coord = var[:,ind]"
   ]
  },
  {
   "cell_type": "code",
   "execution_count": 8,
   "id": "13c6c307",
   "metadata": {},
   "outputs": [
    {
     "data": {
      "image/png": "[encoded data removed]",
      "text/plain": [
       "<Figure size 432x288 with 1 Axes>"
      ]
     },
     "metadata": {
      "needs_background": "light"
     },
     "output_type": "display_data"
    }
   ],
   "source": [
    "# plot mean over map                                                                                                                \n",
    "f, ax = plt.subplots(1,1)                                                                                                       \n",
    "h = ax.plot(time, var_mean, lw=2)\n",
    "ax.set_ylabel('Wind speed (m/s)')\n",
    "ax.set_xlabel('Time') \n",
    "ax.set_title('Wind speed over time', fontsize=14) \n",
    "#plt.ylim(3,4)\n",
    "# Set date format\n",
    "date_format = '%Y-%m-%d %H:%M'\n",
    "myFmt = mdates.DateFormatter(date_format)                                                                                        \n",
    "ax.xaxis.set_major_formatter(myFmt)\n",
    "# Rotate ticks\n",
    "plt.xticks(rotation=45);"
   ]
  },
  {
   "cell_type": "code",
   "execution_count": 9,
   "id": "c713caa7",
   "metadata": {},
   "outputs": [
    {
     "data": {
      "image/png": "[encoded data removed]",
      "text/plain": [
       "<Figure size 432x288 with 1 Axes>"
      ]
     },
     "metadata": {
      "needs_background": "light"
     },
     "output_type": "display_data"
    }
   ],
   "source": [
    "# plot at coordinate                                                                                                               \n",
    "f, ax = plt.subplots(1,1)                                                                                                      \n",
    "h = ax.plot(time, var_coord, lw=2)\n",
    "ax.set_ylabel('Wind speed (m/s)')\n",
    "ax.set_xlabel('Time') \n",
    "ax.set_title('Wind speed over time', fontsize=14) \n",
    "#plt.ylim(3,4)\n",
    "# Set date format\n",
    "date_format = '%Y-%m-%d %H:%M'\n",
    "myFmt = mdates.DateFormatter(date_format)                                                                                        \n",
    "ax.xaxis.set_major_formatter(myFmt)\n",
    "# Rotate ticks\n",
    "plt.xticks(rotation=45);"
   ]
  },
  {
   "cell_type": "code",
   "execution_count": null,
   "id": "5ae915a6",
   "metadata": {},
   "outputs": [],
   "source": []
  }
 ],
 "metadata": {
  "kernelspec": {
   "display_name": "Python 3 (ipykernel)",
   "language": "python",
   "name": "python3"
  },
  "language_info": {
   "codemirror_mode": {
    "name": "ipython",
    "version": 3
   },
   "file_extension": ".py",
   "mimetype": "text/x-python",
   "name": "python",
   "nbconvert_exporter": "python",
   "pygments_lexer": "ipython3",
   "version": "3.7.2"
  }
 },
 "nbformat": 4,
 "nbformat_minor": 5
}

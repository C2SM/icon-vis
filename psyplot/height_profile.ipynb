{
 "cells": [
  {
   "cell_type": "code",
   "execution_count": 1,
   "id": "f11de0c5",
   "metadata": {},
   "outputs": [],
   "source": [
    "import matplotlib.pyplot as plt                                                                                              \n",
    "import numpy as np                                                                                                           \n",
    "import netCDF4 as nc                                                                                                         \n",
    "import argparse                                                                                                              \n",
    "import configparser                                                                                                          \n",
    "import sys                                                                                                                   \n",
    "import matplotlib as mpl                                                                                                     \n",
    "from pathlib import Path                                                                                                     \n",
    "import matplotlib.dates as mdates                                                                                         "
   ]
  },
  {
   "cell_type": "code",
   "execution_count": 40,
   "id": "62a631e8",
   "metadata": {},
   "outputs": [],
   "source": [
    "# Load data\n",
    "input_file = '../data/my_exp1_atm_3d_ml_20180921T000000Z.nc'\n",
    "var_name = 'u' # name of variable\n",
    "time = 0\n",
    "with nc.Dataset(input_file) as ncf:                                                                                      \n",
    "    var = ncf.variables[var_name]\n",
    "    dims = var.dimensions # check name of dimensions                                                                                               \n",
    "    height = ncf.variables[dims[1]][:]                                                                                                                    \n",
    "    var = var[time,:,:] # take variable at certain point in time                                                                                                                                                                   \n",
    "    # var = var.mean(axis=0) # Take mean over time\n",
    "    lats = ncf.variables['clat'][:]\n",
    "    lons = ncf.variables['clon'][:]\n",
    "lats = np.rad2deg(lats)\n",
    "lons = np.rad2deg(lons)"
   ]
  },
  {
   "cell_type": "code",
   "execution_count": 46,
   "id": "83e12751",
   "metadata": {},
   "outputs": [],
   "source": [
    "# Get mean over whole map\n",
    "var_mean = var.mean(axis=1)"
   ]
  },
  {
   "cell_type": "code",
   "execution_count": 43,
   "id": "c4fa6b99",
   "metadata": {},
   "outputs": [
    {
     "name": "stdout",
     "output_type": "stream",
     "text": [
      "Closest ind: 3352\n",
      " Given lat: 47.380 vs found lat: 47.372\n",
      " Given lon: 8.540 vs found lon: 8.527\n"
     ]
    }
   ],
   "source": [
    "# Get values of grid cell closest to coordinate\n",
    "# E.g. Zürich:\n",
    "lon = 8.54\n",
    "lat = 47.38\n",
    "def ind_from_latlon(lats, lons, lat, lon, verbose=False):                                                                    \n",
    "    \"\"\"Find the nearest neighbouring index to given location.                                                                \n",
    "    Args:                                                                                                                    \n",
    "        lats (2d array):            Latitude grid                                                                            \n",
    "        lons (2d array):            Longitude grid                                                                           \n",
    "        lat (float):                Latitude of location                                                                     \n",
    "        lon (float):                Longitude of location                                                                    \n",
    "        verbose (bool, optional):   Print information. Defaults to False.                                                    \n",
    "    Returns:                                                                                                                 \n",
    "        int     Index of nearest grid point.                                                                                 \n",
    "    \"\"\"                                                                                                                      \n",
    "    dist = [                                                                                                                 \n",
    "        np.sqrt((lats[i] - lat) ** 2 + (lons[i] - lon) ** 2) for i in range(len(lats))                                       \n",
    "    ]                                                                                                                        \n",
    "    ind = np.where(dist == np.min(dist))[0][0]                                                                               \n",
    "    if verbose:                                                                                                              \n",
    "        print(f\"Closest ind: {ind}\")                                                                                         \n",
    "        print(f\" Given lat: {lat:.3f} vs found lat: {lats[ind]:.3f}\")                                                        \n",
    "        print(f\" Given lon: {lon:.3f} vs found lon: {lons[ind]:.3f}\")                                                        \n",
    "    return ind \n",
    "\n",
    "ind = ind_from_latlon(lats,lons,lat,lon,verbose=True)\n",
    "var_coord = var[:,ind]"
   ]
  },
  {
   "cell_type": "code",
   "execution_count": 58,
   "id": "42575372",
   "metadata": {},
   "outputs": [
    {
     "data": {
      "text/plain": [
       "(0.0, 70.0)"
      ]
     },
     "execution_count": 58,
     "metadata": {},
     "output_type": "execute_result"
    },
    {
     "data": {
      "image/png": "[encoded data removed]",
      "text/plain": [
       "<Figure size 432x288 with 1 Axes>"
      ]
     },
     "metadata": {
      "needs_background": "light"
     },
     "output_type": "display_data"
    }
   ],
   "source": [
    "# Create plot (plot var_mean or var_coord)\n",
    "f, axes = plt.subplots(1,1)                                                                                              \n",
    "ax = axes                                                                                                                \n",
    "h = ax.plot(var_coord, height, lw=2)\n",
    "ax.set_xlabel('Wind speed (m/s)')\n",
    "ax.set_ylabel('Altitude')\n",
    "ax.set_title('Zonal wind', fontsize=14)\n",
    "plt.ylim([0,70])"
   ]
  }
 ],
 "metadata": {
  "kernelspec": {
   "display_name": "Python 3 (ipykernel)",
   "language": "python",
   "name": "python3"
  },
  "language_info": {
   "codemirror_mode": {
    "name": "ipython",
    "version": 3
   },
   "file_extension": ".py",
   "mimetype": "text/x-python",
   "name": "python",
   "nbconvert_exporter": "python",
   "pygments_lexer": "ipython3",
   "version": "3.7.2"
  }
 },
 "nbformat": 4,
 "nbformat_minor": 5
}

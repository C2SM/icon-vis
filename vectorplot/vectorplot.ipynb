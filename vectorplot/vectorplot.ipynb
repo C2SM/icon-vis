{
 "cells": [
  {
   "cell_type": "markdown",
   "id": "2ba574ce",
   "metadata": {},
   "source": [
    "# Vector plots"
   ]
  },
  {
   "cell_type": "code",
   "execution_count": 1,
   "id": "3ccb5e3d",
   "metadata": {},
   "outputs": [],
   "source": [
    "%load_ext autoreload\n",
    "%autoreload 2"
   ]
  },
  {
   "cell_type": "code",
   "execution_count": 2,
   "id": "c79fb7fe",
   "metadata": {},
   "outputs": [],
   "source": [
    "%matplotlib widget"
   ]
  },
  {
   "cell_type": "code",
   "execution_count": 3,
   "id": "7df0ab10",
   "metadata": {},
   "outputs": [
    {
     "name": "stderr",
     "output_type": "stream",
     "text": [
      "INFO:numexpr.utils:Note: NumExpr detected 36 cores but \"NUMEXPR_MAX_THREADS\" not set, so enforcing safe limit of 8.\n",
      "INFO:numexpr.utils:NumExpr defaulting to 8 threads.\n"
     ]
    }
   ],
   "source": [
    "import psyplot.project as psy\n",
    "\n",
    "import numpy as np\n",
    "import xarray as xr\n",
    "import matplotlib.pyplot as plt\n",
    "import cartopy.crs as ccrs\n",
    "from IPython.display import display, Video\n",
    "\n",
    "from ipympl.backend_nbagg import Canvas\n",
    "Canvas.header_visible.default_value = False\n",
    "\n",
    "import warnings\n",
    "warnings.filterwarnings(\"ignore\", r\"\\s*The on_mappable_changed\")\n",
    "warnings.filterwarnings(\"ignore\", r\"\\s*The input coordinates\")\n",
    "warnings.filterwarnings(\"ignore\", r\"\\s*shading=\")\n",
    "warnings.filterwarnings(\"ignore\", r\"\\s*\\[Warning by\")\n",
    "warnings.filterwarnings(\"ignore\", r\"\\s*ShapelyDeprecationWarning\")\n",
    "\n",
    "from iconarray.plot import formatoptions # import plotting formatoptions (for use with psyplot)\n",
    "import iconarray as iconvis # import self-written modules from iconarray"
   ]
  },
  {
   "cell_type": "code",
   "execution_count": 4,
   "id": "8e535240",
   "metadata": {},
   "outputs": [
    {
     "name": "stdout",
     "output_type": "stream",
     "text": [
      " \n",
      "Getting data from folder: grib\n",
      " \n",
      "Getting data from folder: grids\n",
      " \n",
      "Getting data from folder: nc\n"
     ]
    }
   ],
   "source": [
    "iconvis.get_example_data()"
   ]
  },
  {
   "cell_type": "code",
   "execution_count": 5,
   "id": "503b614d",
   "metadata": {},
   "outputs": [],
   "source": [
    "f_icon      = \"../data/example_data/nc/lfff00000000z\"\n",
    "gridfile = '../data/example_data/grids/icon_grid_0001_R19B08_L.nc'"
   ]
  },
  {
   "cell_type": "code",
   "execution_count": 6,
   "id": "4a3210ca",
   "metadata": {},
   "outputs": [
    {
     "data": {
      "text/html": [
       "<div><svg style=\"position: absolute; width: 0; height: 0; overflow: hidden\">\n",
       "<defs>\n",
       "<symbol id=\"icon-database\" viewBox=\"0 0 32 32\">\n",
       "<path d=\"M16 0c-8.837 0-16 2.239-16 5v4c0 2.761 7.163 5 16 5s16-2.239 16-5v-4c0-2.761-7.163-5-16-5z\"></path>\n",
       "<path d=\"M16 17c-8.837 0-16-2.239-16-5v6c0 2.761 7.163 5 16 5s16-2.239 16-5v-6c0 2.761-7.163 5-16 5z\"></path>\n",
       "<path d=\"M16 26c-8.837 0-16-2.239-16-5v6c0 2.761 7.163 5 16 5s16-2.239 16-5v-6c0 2.761-7.163 5-16 5z\"></path>\n",
       "</symbol>\n",
       "<symbol id=\"icon-file-text2\" viewBox=\"0 0 32 32\">\n",
       "<path d=\"M28.681 7.159c-0.694-0.947-1.662-2.053-2.724-3.116s-2.169-2.030-3.116-2.724c-1.612-1.182-2.393-1.319-2.841-1.319h-15.5c-1.378 0-2.5 1.121-2.5 2.5v27c0 1.378 1.122 2.5 2.5 2.5h23c1.378 0 2.5-1.122 2.5-2.5v-19.5c0-0.448-0.137-1.23-1.319-2.841zM24.543 5.457c0.959 0.959 1.712 1.825 2.268 2.543h-4.811v-4.811c0.718 0.556 1.584 1.309 2.543 2.268zM28 29.5c0 0.271-0.229 0.5-0.5 0.5h-23c-0.271 0-0.5-0.229-0.5-0.5v-27c0-0.271 0.229-0.5 0.5-0.5 0 0 15.499-0 15.5 0v7c0 0.552 0.448 1 1 1h7v19.5z\"></path>\n",
       "<path d=\"M23 26h-14c-0.552 0-1-0.448-1-1s0.448-1 1-1h14c0.552 0 1 0.448 1 1s-0.448 1-1 1z\"></path>\n",
       "<path d=\"M23 22h-14c-0.552 0-1-0.448-1-1s0.448-1 1-1h14c0.552 0 1 0.448 1 1s-0.448 1-1 1z\"></path>\n",
       "<path d=\"M23 18h-14c-0.552 0-1-0.448-1-1s0.448-1 1-1h14c0.552 0 1 0.448 1 1s-0.448 1-1 1z\"></path>\n",
       "</symbol>\n",
       "</defs>\n",
       "</svg>\n",
       "<style>/* CSS stylesheet for displaying xarray objects in jupyterlab.\n",
       " *\n",
       " */\n",
       "\n",
       ":root {\n",
       "  --xr-font-color0: var(--jp-content-font-color0, rgba(0, 0, 0, 1));\n",
       "  --xr-font-color2: var(--jp-content-font-color2, rgba(0, 0, 0, 0.54));\n",
       "  --xr-font-color3: var(--jp-content-font-color3, rgba(0, 0, 0, 0.38));\n",
       "  --xr-border-color: var(--jp-border-color2, #e0e0e0);\n",
       "  --xr-disabled-color: var(--jp-layout-color3, #bdbdbd);\n",
       "  --xr-background-color: var(--jp-layout-color0, white);\n",
       "  --xr-background-color-row-even: var(--jp-layout-color1, white);\n",
       "  --xr-background-color-row-odd: var(--jp-layout-color2, #eeeeee);\n",
       "}\n",
       "\n",
       "html[theme=dark],\n",
       "body.vscode-dark {\n",
       "  --xr-font-color0: rgba(255, 255, 255, 1);\n",
       "  --xr-font-color2: rgba(255, 255, 255, 0.54);\n",
       "  --xr-font-color3: rgba(255, 255, 255, 0.38);\n",
       "  --xr-border-color: #1F1F1F;\n",
       "  --xr-disabled-color: #515151;\n",
       "  --xr-background-color: #111111;\n",
       "  --xr-background-color-row-even: #111111;\n",
       "  --xr-background-color-row-odd: #313131;\n",
       "}\n",
       "\n",
       ".xr-wrap {\n",
       "  display: block;\n",
       "  min-width: 300px;\n",
       "  max-width: 700px;\n",
       "}\n",
       "\n",
       ".xr-text-repr-fallback {\n",
       "  /* fallback to plain text repr when CSS is not injected (untrusted notebook) */\n",
       "  display: none;\n",
       "}\n",
       "\n",
       ".xr-header {\n",
       "  padding-top: 6px;\n",
       "  padding-bottom: 6px;\n",
       "  margin-bottom: 4px;\n",
       "  border-bottom: solid 1px var(--xr-border-color);\n",
       "}\n",
       "\n",
       ".xr-header > div,\n",
       ".xr-header > ul {\n",
       "  display: inline;\n",
       "  margin-top: 0;\n",
       "  margin-bottom: 0;\n",
       "}\n",
       "\n",
       ".xr-obj-type,\n",
       ".xr-array-name {\n",
       "  margin-left: 2px;\n",
       "  margin-right: 10px;\n",
       "}\n",
       "\n",
       ".xr-obj-type {\n",
       "  color: var(--xr-font-color2);\n",
       "}\n",
       "\n",
       ".xr-sections {\n",
       "  padding-left: 0 !important;\n",
       "  display: grid;\n",
       "  grid-template-columns: 150px auto auto 1fr 20px 20px;\n",
       "}\n",
       "\n",
       ".xr-section-item {\n",
       "  display: contents;\n",
       "}\n",
       "\n",
       ".xr-section-item input {\n",
       "  display: none;\n",
       "}\n",
       "\n",
       ".xr-section-item input + label {\n",
       "  color: var(--xr-disabled-color);\n",
       "}\n",
       "\n",
       ".xr-section-item input:enabled + label {\n",
       "  cursor: pointer;\n",
       "  color: var(--xr-font-color2);\n",
       "}\n",
       "\n",
       ".xr-section-item input:enabled + label:hover {\n",
       "  color: var(--xr-font-color0);\n",
       "}\n",
       "\n",
       ".xr-section-summary {\n",
       "  grid-column: 1;\n",
       "  color: var(--xr-font-color2);\n",
       "  font-weight: 500;\n",
       "}\n",
       "\n",
       ".xr-section-summary > span {\n",
       "  display: inline-block;\n",
       "  padding-left: 0.5em;\n",
       "}\n",
       "\n",
       ".xr-section-summary-in:disabled + label {\n",
       "  color: var(--xr-font-color2);\n",
       "}\n",
       "\n",
       ".xr-section-summary-in + label:before {\n",
       "  display: inline-block;\n",
       "  content: '►';\n",
       "  font-size: 11px;\n",
       "  width: 15px;\n",
       "  text-align: center;\n",
       "}\n",
       "\n",
       ".xr-section-summary-in:disabled + label:before {\n",
       "  color: var(--xr-disabled-color);\n",
       "}\n",
       "\n",
       ".xr-section-summary-in:checked + label:before {\n",
       "  content: '▼';\n",
       "}\n",
       "\n",
       ".xr-section-summary-in:checked + label > span {\n",
       "  display: none;\n",
       "}\n",
       "\n",
       ".xr-section-summary,\n",
       ".xr-section-inline-details {\n",
       "  padding-top: 4px;\n",
       "  padding-bottom: 4px;\n",
       "}\n",
       "\n",
       ".xr-section-inline-details {\n",
       "  grid-column: 2 / -1;\n",
       "}\n",
       "\n",
       ".xr-section-details {\n",
       "  display: none;\n",
       "  grid-column: 1 / -1;\n",
       "  margin-bottom: 5px;\n",
       "}\n",
       "\n",
       ".xr-section-summary-in:checked ~ .xr-section-details {\n",
       "  display: contents;\n",
       "}\n",
       "\n",
       ".xr-array-wrap {\n",
       "  grid-column: 1 / -1;\n",
       "  display: grid;\n",
       "  grid-template-columns: 20px auto;\n",
       "}\n",
       "\n",
       ".xr-array-wrap > label {\n",
       "  grid-column: 1;\n",
       "  vertical-align: top;\n",
       "}\n",
       "\n",
       ".xr-preview {\n",
       "  color: var(--xr-font-color3);\n",
       "}\n",
       "\n",
       ".xr-array-preview,\n",
       ".xr-array-data {\n",
       "  padding: 0 5px !important;\n",
       "  grid-column: 2;\n",
       "}\n",
       "\n",
       ".xr-array-data,\n",
       ".xr-array-in:checked ~ .xr-array-preview {\n",
       "  display: none;\n",
       "}\n",
       "\n",
       ".xr-array-in:checked ~ .xr-array-data,\n",
       ".xr-array-preview {\n",
       "  display: inline-block;\n",
       "}\n",
       "\n",
       ".xr-dim-list {\n",
       "  display: inline-block !important;\n",
       "  list-style: none;\n",
       "  padding: 0 !important;\n",
       "  margin: 0;\n",
       "}\n",
       "\n",
       ".xr-dim-list li {\n",
       "  display: inline-block;\n",
       "  padding: 0;\n",
       "  margin: 0;\n",
       "}\n",
       "\n",
       ".xr-dim-list:before {\n",
       "  content: '(';\n",
       "}\n",
       "\n",
       ".xr-dim-list:after {\n",
       "  content: ')';\n",
       "}\n",
       "\n",
       ".xr-dim-list li:not(:last-child):after {\n",
       "  content: ',';\n",
       "  padding-right: 5px;\n",
       "}\n",
       "\n",
       ".xr-has-index {\n",
       "  font-weight: bold;\n",
       "}\n",
       "\n",
       ".xr-var-list,\n",
       ".xr-var-item {\n",
       "  display: contents;\n",
       "}\n",
       "\n",
       ".xr-var-item > div,\n",
       ".xr-var-item label,\n",
       ".xr-var-item > .xr-var-name span {\n",
       "  background-color: var(--xr-background-color-row-even);\n",
       "  margin-bottom: 0;\n",
       "}\n",
       "\n",
       ".xr-var-item > .xr-var-name:hover span {\n",
       "  padding-right: 5px;\n",
       "}\n",
       "\n",
       ".xr-var-list > li:nth-child(odd) > div,\n",
       ".xr-var-list > li:nth-child(odd) > label,\n",
       ".xr-var-list > li:nth-child(odd) > .xr-var-name span {\n",
       "  background-color: var(--xr-background-color-row-odd);\n",
       "}\n",
       "\n",
       ".xr-var-name {\n",
       "  grid-column: 1;\n",
       "}\n",
       "\n",
       ".xr-var-dims {\n",
       "  grid-column: 2;\n",
       "}\n",
       "\n",
       ".xr-var-dtype {\n",
       "  grid-column: 3;\n",
       "  text-align: right;\n",
       "  color: var(--xr-font-color2);\n",
       "}\n",
       "\n",
       ".xr-var-preview {\n",
       "  grid-column: 4;\n",
       "}\n",
       "\n",
       ".xr-var-name,\n",
       ".xr-var-dims,\n",
       ".xr-var-dtype,\n",
       ".xr-preview,\n",
       ".xr-attrs dt {\n",
       "  white-space: nowrap;\n",
       "  overflow: hidden;\n",
       "  text-overflow: ellipsis;\n",
       "  padding-right: 10px;\n",
       "}\n",
       "\n",
       ".xr-var-name:hover,\n",
       ".xr-var-dims:hover,\n",
       ".xr-var-dtype:hover,\n",
       ".xr-attrs dt:hover {\n",
       "  overflow: visible;\n",
       "  width: auto;\n",
       "  z-index: 1;\n",
       "}\n",
       "\n",
       ".xr-var-attrs,\n",
       ".xr-var-data {\n",
       "  display: none;\n",
       "  background-color: var(--xr-background-color) !important;\n",
       "  padding-bottom: 5px !important;\n",
       "}\n",
       "\n",
       ".xr-var-attrs-in:checked ~ .xr-var-attrs,\n",
       ".xr-var-data-in:checked ~ .xr-var-data {\n",
       "  display: block;\n",
       "}\n",
       "\n",
       ".xr-var-data > table {\n",
       "  float: right;\n",
       "}\n",
       "\n",
       ".xr-var-name span,\n",
       ".xr-var-data,\n",
       ".xr-attrs {\n",
       "  padding-left: 25px !important;\n",
       "}\n",
       "\n",
       ".xr-attrs,\n",
       ".xr-var-attrs,\n",
       ".xr-var-data {\n",
       "  grid-column: 1 / -1;\n",
       "}\n",
       "\n",
       "dl.xr-attrs {\n",
       "  padding: 0;\n",
       "  margin: 0;\n",
       "  display: grid;\n",
       "  grid-template-columns: 125px auto;\n",
       "}\n",
       "\n",
       ".xr-attrs dt,\n",
       ".xr-attrs dd {\n",
       "  padding: 0;\n",
       "  margin: 0;\n",
       "  float: left;\n",
       "  padding-right: 10px;\n",
       "  width: auto;\n",
       "}\n",
       "\n",
       ".xr-attrs dt {\n",
       "  font-weight: normal;\n",
       "  grid-column: 1;\n",
       "}\n",
       "\n",
       ".xr-attrs dt:hover span {\n",
       "  display: inline-block;\n",
       "  background: var(--xr-background-color);\n",
       "  padding-right: 10px;\n",
       "}\n",
       "\n",
       ".xr-attrs dd {\n",
       "  grid-column: 2;\n",
       "  white-space: pre-wrap;\n",
       "  word-break: break-all;\n",
       "}\n",
       "\n",
       ".xr-icon-database,\n",
       ".xr-icon-file-text2 {\n",
       "  display: inline-block;\n",
       "  vertical-align: middle;\n",
       "  width: 1em;\n",
       "  height: 1.5em !important;\n",
       "  stroke-width: 0;\n",
       "  stroke: currentColor;\n",
       "  fill: currentColor;\n",
       "}\n",
       "</style><pre class='xr-text-repr-fallback'>&lt;xarray.Dataset&gt;\n",
       "Dimensions:    (ncells: 1028172, vertices: 3, alt: 9, time: 2)\n",
       "Coordinates:\n",
       "    clon       (ncells) float32 ...\n",
       "    clon_bnds  (ncells, vertices) float32 ...\n",
       "    clat       (ncells) float32 ...\n",
       "    clat_bnds  (ncells, vertices) float32 ...\n",
       "  * alt        (alt) float64 1.05e+04 8.5e+03 5e+03 4e+03 ... 1e+03 750.0 500.0\n",
       "  * time       (time) datetime64[ns] 2021-11-23 2021-11-23T01:00:00\n",
       "Dimensions without coordinates: ncells, vertices\n",
       "Data variables:\n",
       "    T          (time, alt, ncells) float32 ...\n",
       "    U          (time, alt, ncells) float32 ...\n",
       "    V          (time, alt, ncells) float32 ...\n",
       "Attributes:\n",
       "    CDI:                  Climate Data Interface version 1.8.3rc (http://mpim...\n",
       "    Conventions:          CF-1.6\n",
       "    number_of_grid_used:  1\n",
       "    uuidOfHGrid:          fc046f09-ed97-850e-1e31-8927421b2b60\n",
       "    institution:          Max Planck Institute for Meteorology/Deutscher Wett...\n",
       "    title:                ICON simulation\n",
       "    source:               git@gitlab.dkrz.de:icon/icon-nwp.git@fc1687821dd240...\n",
       "    history:              /perm/ms/ch/chaw/misc/src/icon-nwp/2.6.2-nwp2/bin/i...\n",
       "    references:           see MPIM/DWD publications\n",
       "    comment:              unknown user name on nid00527 (Linux 3.0.101-0.46.1...</pre><div class='xr-wrap' hidden><div class='xr-header'><div class='xr-obj-type'>xarray.Dataset</div></div><ul class='xr-sections'><li class='xr-section-item'><input id='section-32d1bb57-3311-4e88-a04b-30d8c5ccf03f' class='xr-section-summary-in' type='checkbox' disabled ><label for='section-32d1bb57-3311-4e88-a04b-30d8c5ccf03f' class='xr-section-summary'  title='Expand/collapse section'>Dimensions:</label><div class='xr-section-inline-details'><ul class='xr-dim-list'><li><span>ncells</span>: 1028172</li><li><span>vertices</span>: 3</li><li><span class='xr-has-index'>alt</span>: 9</li><li><span class='xr-has-index'>time</span>: 2</li></ul></div><div class='xr-section-details'></div></li><li class='xr-section-item'><input id='section-a5f24037-ca5e-4215-8254-8c08f51b411c' class='xr-section-summary-in' type='checkbox'  checked><label for='section-a5f24037-ca5e-4215-8254-8c08f51b411c' class='xr-section-summary' >Coordinates: <span>(6)</span></label><div class='xr-section-inline-details'></div><div class='xr-section-details'><ul class='xr-var-list'><li class='xr-var-item'><div class='xr-var-name'><span>clon</span></div><div class='xr-var-dims'>(ncells)</div><div class='xr-var-dtype'>float32</div><div class='xr-var-preview xr-preview'>...</div><input id='attrs-4235b1d6-2e5a-412e-bc7b-59eb0907650d' class='xr-var-attrs-in' type='checkbox' ><label for='attrs-4235b1d6-2e5a-412e-bc7b-59eb0907650d' title='Show/Hide attributes'><svg class='icon xr-icon-file-text2'><use xlink:href='#icon-file-text2'></use></svg></label><input id='data-ddf93516-7cd6-40eb-ab41-4a8d8982f6f3' class='xr-var-data-in' type='checkbox'><label for='data-ddf93516-7cd6-40eb-ab41-4a8d8982f6f3' title='Show/Hide data repr'><svg class='icon xr-icon-database'><use xlink:href='#icon-database'></use></svg></label><div class='xr-var-attrs'><dl class='xr-attrs'><dt><span>standard_name :</span></dt><dd>longitude</dd><dt><span>long_name :</span></dt><dd>center longitude</dd><dt><span>units :</span></dt><dd>radian</dd><dt><span>bounds :</span></dt><dd>clon_bnds</dd></dl></div><div class='xr-var-data'><pre>[1028172 values with dtype=float32]</pre></div></li><li class='xr-var-item'><div class='xr-var-name'><span>clon_bnds</span></div><div class='xr-var-dims'>(ncells, vertices)</div><div class='xr-var-dtype'>float32</div><div class='xr-var-preview xr-preview'>...</div><input id='attrs-be885569-4b6d-427f-8826-5814126fbef6' class='xr-var-attrs-in' type='checkbox' disabled><label for='attrs-be885569-4b6d-427f-8826-5814126fbef6' title='Show/Hide attributes'><svg class='icon xr-icon-file-text2'><use xlink:href='#icon-file-text2'></use></svg></label><input id='data-7505ea8c-9d5b-4488-b246-a0ff321630c8' class='xr-var-data-in' type='checkbox'><label for='data-7505ea8c-9d5b-4488-b246-a0ff321630c8' title='Show/Hide data repr'><svg class='icon xr-icon-database'><use xlink:href='#icon-database'></use></svg></label><div class='xr-var-attrs'><dl class='xr-attrs'></dl></div><div class='xr-var-data'><pre>[3084516 values with dtype=float32]</pre></div></li><li class='xr-var-item'><div class='xr-var-name'><span>clat</span></div><div class='xr-var-dims'>(ncells)</div><div class='xr-var-dtype'>float32</div><div class='xr-var-preview xr-preview'>...</div><input id='attrs-f3f885cb-7dc4-4435-ae95-0d64eb583d93' class='xr-var-attrs-in' type='checkbox' ><label for='attrs-f3f885cb-7dc4-4435-ae95-0d64eb583d93' title='Show/Hide attributes'><svg class='icon xr-icon-file-text2'><use xlink:href='#icon-file-text2'></use></svg></label><input id='data-782bcc89-641c-4a06-a982-4045c90a7b3a' class='xr-var-data-in' type='checkbox'><label for='data-782bcc89-641c-4a06-a982-4045c90a7b3a' title='Show/Hide data repr'><svg class='icon xr-icon-database'><use xlink:href='#icon-database'></use></svg></label><div class='xr-var-attrs'><dl class='xr-attrs'><dt><span>standard_name :</span></dt><dd>latitude</dd><dt><span>long_name :</span></dt><dd>center latitude</dd><dt><span>units :</span></dt><dd>radian</dd><dt><span>bounds :</span></dt><dd>clat_bnds</dd></dl></div><div class='xr-var-data'><pre>[1028172 values with dtype=float32]</pre></div></li><li class='xr-var-item'><div class='xr-var-name'><span>clat_bnds</span></div><div class='xr-var-dims'>(ncells, vertices)</div><div class='xr-var-dtype'>float32</div><div class='xr-var-preview xr-preview'>...</div><input id='attrs-6831d5fb-0055-4d93-98fe-e43cd826abb9' class='xr-var-attrs-in' type='checkbox' disabled><label for='attrs-6831d5fb-0055-4d93-98fe-e43cd826abb9' title='Show/Hide attributes'><svg class='icon xr-icon-file-text2'><use xlink:href='#icon-file-text2'></use></svg></label><input id='data-85a54b00-8155-47da-9643-5d68f273fd38' class='xr-var-data-in' type='checkbox'><label for='data-85a54b00-8155-47da-9643-5d68f273fd38' title='Show/Hide data repr'><svg class='icon xr-icon-database'><use xlink:href='#icon-database'></use></svg></label><div class='xr-var-attrs'><dl class='xr-attrs'></dl></div><div class='xr-var-data'><pre>[3084516 values with dtype=float32]</pre></div></li><li class='xr-var-item'><div class='xr-var-name'><span class='xr-has-index'>alt</span></div><div class='xr-var-dims'>(alt)</div><div class='xr-var-dtype'>float64</div><div class='xr-var-preview xr-preview'>1.05e+04 8.5e+03 ... 750.0 500.0</div><input id='attrs-8d7f225a-b6b9-4b4b-a0e4-b43534df150b' class='xr-var-attrs-in' type='checkbox' ><label for='attrs-8d7f225a-b6b9-4b4b-a0e4-b43534df150b' title='Show/Hide attributes'><svg class='icon xr-icon-file-text2'><use xlink:href='#icon-file-text2'></use></svg></label><input id='data-af3773f0-fe1e-4c43-aefb-1aa550ac9f4c' class='xr-var-data-in' type='checkbox'><label for='data-af3773f0-fe1e-4c43-aefb-1aa550ac9f4c' title='Show/Hide data repr'><svg class='icon xr-icon-database'><use xlink:href='#icon-database'></use></svg></label><div class='xr-var-attrs'><dl class='xr-attrs'><dt><span>long_name :</span></dt><dd>altitude</dd><dt><span>units :</span></dt><dd>m</dd><dt><span>positive :</span></dt><dd>up</dd><dt><span>axis :</span></dt><dd>Z</dd></dl></div><div class='xr-var-data'><pre>array([10500.,  8500.,  5000.,  4000.,  3000.,  2000.,  1000.,   750.,   500.])</pre></div></li><li class='xr-var-item'><div class='xr-var-name'><span class='xr-has-index'>time</span></div><div class='xr-var-dims'>(time)</div><div class='xr-var-dtype'>datetime64[ns]</div><div class='xr-var-preview xr-preview'>2021-11-23 2021-11-23T01:00:00</div><input id='attrs-b799dd96-b4ae-46bb-ad74-43322f54e6bc' class='xr-var-attrs-in' type='checkbox' ><label for='attrs-b799dd96-b4ae-46bb-ad74-43322f54e6bc' title='Show/Hide attributes'><svg class='icon xr-icon-file-text2'><use xlink:href='#icon-file-text2'></use></svg></label><input id='data-30b50a52-d305-45b3-83ee-6316a5a089af' class='xr-var-data-in' type='checkbox'><label for='data-30b50a52-d305-45b3-83ee-6316a5a089af' title='Show/Hide data repr'><svg class='icon xr-icon-database'><use xlink:href='#icon-database'></use></svg></label><div class='xr-var-attrs'><dl class='xr-attrs'><dt><span>standard_name :</span></dt><dd>time</dd><dt><span>axis :</span></dt><dd>T</dd></dl></div><div class='xr-var-data'><pre>array([&#x27;2021-11-23T00:00:00.000000000&#x27;, &#x27;2021-11-23T01:00:00.000000000&#x27;],\n",
       "      dtype=&#x27;datetime64[ns]&#x27;)</pre></div></li></ul></div></li><li class='xr-section-item'><input id='section-2464e022-2199-4ea4-a705-ffe33cdf9774' class='xr-section-summary-in' type='checkbox'  checked><label for='section-2464e022-2199-4ea4-a705-ffe33cdf9774' class='xr-section-summary' >Data variables: <span>(3)</span></label><div class='xr-section-inline-details'></div><div class='xr-section-details'><ul class='xr-var-list'><li class='xr-var-item'><div class='xr-var-name'><span>T</span></div><div class='xr-var-dims'>(time, alt, ncells)</div><div class='xr-var-dtype'>float32</div><div class='xr-var-preview xr-preview'>...</div><input id='attrs-c99697c8-2c4e-4b02-accc-635a40a579fc' class='xr-var-attrs-in' type='checkbox' ><label for='attrs-c99697c8-2c4e-4b02-accc-635a40a579fc' title='Show/Hide attributes'><svg class='icon xr-icon-file-text2'><use xlink:href='#icon-file-text2'></use></svg></label><input id='data-39636ebf-ce33-4816-80d5-77c86d64163f' class='xr-var-data-in' type='checkbox'><label for='data-39636ebf-ce33-4816-80d5-77c86d64163f' title='Show/Hide data repr'><svg class='icon xr-icon-database'><use xlink:href='#icon-database'></use></svg></label><div class='xr-var-attrs'><dl class='xr-attrs'><dt><span>standard_name :</span></dt><dd>air_temperature</dd><dt><span>long_name :</span></dt><dd>Temperature</dd><dt><span>units :</span></dt><dd>K</dd><dt><span>param :</span></dt><dd>0.0.0</dd><dt><span>CDI_grid_type :</span></dt><dd>unstructured</dd><dt><span>number_of_grid_in_reference :</span></dt><dd>1</dd></dl></div><div class='xr-var-data'><pre>[18507096 values with dtype=float32]</pre></div></li><li class='xr-var-item'><div class='xr-var-name'><span>U</span></div><div class='xr-var-dims'>(time, alt, ncells)</div><div class='xr-var-dtype'>float32</div><div class='xr-var-preview xr-preview'>...</div><input id='attrs-cf33406b-07fe-43cb-8ec5-0eb1b6eed964' class='xr-var-attrs-in' type='checkbox' ><label for='attrs-cf33406b-07fe-43cb-8ec5-0eb1b6eed964' title='Show/Hide attributes'><svg class='icon xr-icon-file-text2'><use xlink:href='#icon-file-text2'></use></svg></label><input id='data-82aafef8-058d-4418-aaf9-58923c5ddf6a' class='xr-var-data-in' type='checkbox'><label for='data-82aafef8-058d-4418-aaf9-58923c5ddf6a' title='Show/Hide data repr'><svg class='icon xr-icon-database'><use xlink:href='#icon-database'></use></svg></label><div class='xr-var-attrs'><dl class='xr-attrs'><dt><span>standard_name :</span></dt><dd>eastward_wind</dd><dt><span>long_name :</span></dt><dd>Zonal wind</dd><dt><span>units :</span></dt><dd>m s-1</dd><dt><span>param :</span></dt><dd>2.2.0</dd><dt><span>CDI_grid_type :</span></dt><dd>unstructured</dd><dt><span>number_of_grid_in_reference :</span></dt><dd>1</dd></dl></div><div class='xr-var-data'><pre>[18507096 values with dtype=float32]</pre></div></li><li class='xr-var-item'><div class='xr-var-name'><span>V</span></div><div class='xr-var-dims'>(time, alt, ncells)</div><div class='xr-var-dtype'>float32</div><div class='xr-var-preview xr-preview'>...</div><input id='attrs-85018354-78e0-412c-9f22-ebc911e3ee4a' class='xr-var-attrs-in' type='checkbox' ><label for='attrs-85018354-78e0-412c-9f22-ebc911e3ee4a' title='Show/Hide attributes'><svg class='icon xr-icon-file-text2'><use xlink:href='#icon-file-text2'></use></svg></label><input id='data-51bf280b-839b-4ce3-81f5-3ed49d3a4212' class='xr-var-data-in' type='checkbox'><label for='data-51bf280b-839b-4ce3-81f5-3ed49d3a4212' title='Show/Hide data repr'><svg class='icon xr-icon-database'><use xlink:href='#icon-database'></use></svg></label><div class='xr-var-attrs'><dl class='xr-attrs'><dt><span>standard_name :</span></dt><dd>northward_wind</dd><dt><span>long_name :</span></dt><dd>Meridional wind</dd><dt><span>units :</span></dt><dd>m s-1</dd><dt><span>param :</span></dt><dd>3.2.0</dd><dt><span>CDI_grid_type :</span></dt><dd>unstructured</dd><dt><span>number_of_grid_in_reference :</span></dt><dd>1</dd></dl></div><div class='xr-var-data'><pre>[18507096 values with dtype=float32]</pre></div></li></ul></div></li><li class='xr-section-item'><input id='section-7529b09a-831f-4bc9-9c25-bc6bb150dff6' class='xr-section-summary-in' type='checkbox'  ><label for='section-7529b09a-831f-4bc9-9c25-bc6bb150dff6' class='xr-section-summary' >Attributes: <span>(10)</span></label><div class='xr-section-inline-details'></div><div class='xr-section-details'><dl class='xr-attrs'><dt><span>CDI :</span></dt><dd>Climate Data Interface version 1.8.3rc (http://mpimet.mpg.de/cdi)</dd><dt><span>Conventions :</span></dt><dd>CF-1.6</dd><dt><span>number_of_grid_used :</span></dt><dd>1</dd><dt><span>uuidOfHGrid :</span></dt><dd>fc046f09-ed97-850e-1e31-8927421b2b60</dd><dt><span>institution :</span></dt><dd>Max Planck Institute for Meteorology/Deutscher Wetterdienst</dd><dt><span>title :</span></dt><dd>ICON simulation</dd><dt><span>source :</span></dt><dd>git@gitlab.dkrz.de:icon/icon-nwp.git@fc1687821dd2403025aa607805fca9b82f6f9198</dd><dt><span>history :</span></dt><dd>/perm/ms/ch/chaw/misc/src/icon-nwp/2.6.2-nwp2/bin/icon at 20211123 185135</dd><dt><span>references :</span></dt><dd>see MPIM/DWD publications</dd><dt><span>comment :</span></dt><dd>unknown user name on nid00527 (Linux 3.0.101-0.46.1_1.0502.8871-cray_ari_c x86_64)</dd></dl></div></li></ul></div></div>"
      ],
      "text/plain": [
       "<xarray.Dataset>\n",
       "Dimensions:    (ncells: 1028172, vertices: 3, alt: 9, time: 2)\n",
       "Coordinates:\n",
       "    clon       (ncells) float32 ...\n",
       "    clon_bnds  (ncells, vertices) float32 ...\n",
       "    clat       (ncells) float32 ...\n",
       "    clat_bnds  (ncells, vertices) float32 ...\n",
       "  * alt        (alt) float64 1.05e+04 8.5e+03 5e+03 4e+03 ... 1e+03 750.0 500.0\n",
       "  * time       (time) datetime64[ns] 2021-11-23 2021-11-23T01:00:00\n",
       "Dimensions without coordinates: ncells, vertices\n",
       "Data variables:\n",
       "    T          (time, alt, ncells) float32 ...\n",
       "    U          (time, alt, ncells) float32 ...\n",
       "    V          (time, alt, ncells) float32 ...\n",
       "Attributes:\n",
       "    CDI:                  Climate Data Interface version 1.8.3rc (http://mpim...\n",
       "    Conventions:          CF-1.6\n",
       "    number_of_grid_used:  1\n",
       "    uuidOfHGrid:          fc046f09-ed97-850e-1e31-8927421b2b60\n",
       "    institution:          Max Planck Institute for Meteorology/Deutscher Wett...\n",
       "    title:                ICON simulation\n",
       "    source:               git@gitlab.dkrz.de:icon/icon-nwp.git@fc1687821dd240...\n",
       "    history:              /perm/ms/ch/chaw/misc/src/icon-nwp/2.6.2-nwp2/bin/i...\n",
       "    references:           see MPIM/DWD publications\n",
       "    comment:              unknown user name on nid00527 (Linux 3.0.101-0.46.1..."
      ]
     },
     "execution_count": 6,
     "metadata": {},
     "output_type": "execute_result"
    }
   ],
   "source": [
    "ds = psy.open_dataset(f_icon)\n",
    "ds"
   ]
  },
  {
   "cell_type": "code",
   "execution_count": 7,
   "id": "edc10f6f",
   "metadata": {},
   "outputs": [],
   "source": [
    "# Dont plot with x and y gridlines\n",
    "psy.rcParams[\"plotter.maps.xgrid\"] = True\n",
    "psy.rcParams[\"plotter.maps.ygrid\"] = True\n",
    "psy.rcParams[\"plotter.maps.grid_settings\"] = {'visible': False}\n",
    "psy.rcParams[\"plotter.maps.grid_labelsize\"] = 'x-small'"
   ]
  },
  {
   "cell_type": "code",
   "execution_count": 8,
   "id": "59003002",
   "metadata": {},
   "outputs": [],
   "source": [
    "from psy_simple.plotters import CMap, Bounds\n",
    "from psy_maps.plotters import Transform, MapPlot2D, LonLatBox, MapPlotter\n",
    "from psyplot.plotter import Plotter\n",
    "import psy_simple.plotters\n",
    "import psy_maps.plotters\n",
    "import cartopy.crs as ccrs\n",
    "import matplotlib.pyplot as plt"
   ]
  },
  {
   "cell_type": "markdown",
   "id": "83baeb96",
   "metadata": {},
   "source": [
    "### Remap ICON grid to Regular grid for wind plotting\n",
    "\n",
    "ICON data can be too dense to plot wind barbs nicely, so to reduce the density of barbs, we can first interpolate the data to regular grid. See example at bottom of notebook, plotting uninterpolated data."
   ]
  },
  {
   "cell_type": "markdown",
   "id": "c2f27c30",
   "metadata": {},
   "source": [
    "#### Fieldextra interpolation"
   ]
  },
  {
   "cell_type": "code",
   "execution_count": 10,
   "id": "b3e7e7fb",
   "metadata": {},
   "outputs": [
    {
     "name": "stdout",
     "output_type": "stream",
     "text": [
      "Creating regular grid over Europe region.\n",
      "\n",
      "Fieldextra Namelist saved to:/users/tlezuo/icon-vis/vectorplot/tmp/fieldextra/NAMELIST_ICON_REG_REMAP\n",
      "\n",
      "Running fieldextra:/project/s83c/fieldextra/tsa/bin/fieldextra_gnu_opt_omp /users/tlezuo/icon-vis/vectorplot/tmp/fieldextra/NAMELIST_ICON_REG_REMAP\n"
     ]
    },
    {
     "ename": "Exception",
     "evalue": "Error running fieldextra. CalledProcessError, Return Code: 126",
     "output_type": "error",
     "traceback": [
      "\u001b[0;31m---------------------------------------------------------------------------\u001b[0m",
      "\u001b[0;31mCalledProcessError\u001b[0m                        Traceback (most recent call last)",
      "File \u001b[0;32m/scratch/tlezuo/miniconda3/envs/psyplot/lib/python3.9/site-packages/iconarray/core/interpolate.py:188\u001b[0m, in \u001b[0;36mlog_fx\u001b[0;34m(f, remap_namelist_path)\u001b[0m\n\u001b[1;32m    187\u001b[0m \u001b[39m# Run fieldextra with namelist\u001b[39;00m\n\u001b[0;32m--> 188\u001b[0m fx \u001b[39m=\u001b[39m subprocess\u001b[39m.\u001b[39;49mrun(fxcommand, capture_output\u001b[39m=\u001b[39;49m\u001b[39mTrue\u001b[39;49;00m, check\u001b[39m=\u001b[39;49m\u001b[39mTrue\u001b[39;49;00m, shell\u001b[39m=\u001b[39;49m\u001b[39mTrue\u001b[39;49;00m)\n\u001b[1;32m    190\u001b[0m \u001b[39mfor\u001b[39;00m line \u001b[39min\u001b[39;00m fx\u001b[39m.\u001b[39mstdout\u001b[39m.\u001b[39mdecode()\u001b[39m.\u001b[39msplit(\u001b[39m\"\u001b[39m\u001b[39m\\n\u001b[39;00m\u001b[39m\"\u001b[39m):\n",
      "File \u001b[0;32m/scratch/tlezuo/miniconda3/envs/psyplot/lib/python3.9/subprocess.py:528\u001b[0m, in \u001b[0;36mrun\u001b[0;34m(input, capture_output, timeout, check, *popenargs, **kwargs)\u001b[0m\n\u001b[1;32m    527\u001b[0m     \u001b[39mif\u001b[39;00m check \u001b[39mand\u001b[39;00m retcode:\n\u001b[0;32m--> 528\u001b[0m         \u001b[39mraise\u001b[39;00m CalledProcessError(retcode, process\u001b[39m.\u001b[39margs,\n\u001b[1;32m    529\u001b[0m                                  output\u001b[39m=\u001b[39mstdout, stderr\u001b[39m=\u001b[39mstderr)\n\u001b[1;32m    530\u001b[0m \u001b[39mreturn\u001b[39;00m CompletedProcess(process\u001b[39m.\u001b[39margs, retcode, stdout, stderr)\n",
      "\u001b[0;31mCalledProcessError\u001b[0m: Command 'ulimit -s unlimited;  export OMP_STACKSIZE=500M; /project/s83c/fieldextra/tsa/bin/fieldextra_gnu_opt_omp /users/tlezuo/icon-vis/vectorplot/tmp/fieldextra/NAMELIST_ICON_REG_REMAP;' returned non-zero exit status 126.",
      "\nDuring handling of the above exception, another exception occurred:\n",
      "\u001b[0;31mException\u001b[0m                                 Traceback (most recent call last)",
      "Cell \u001b[0;32mIn [10], line 1\u001b[0m\n\u001b[0;32m----> 1\u001b[0m output_file \u001b[39m=\u001b[39m iconvis\u001b[39m.\u001b[39mremap_ICON_to_regulargrid(\n\u001b[1;32m      2\u001b[0m                                         data_file\u001b[39m=\u001b[39mf_icon,\n\u001b[1;32m      3\u001b[0m                                         in_grid_file\u001b[39m=\u001b[39mgridfile,\n\u001b[1;32m      4\u001b[0m                                         num_dates\u001b[39m=\u001b[39mds\u001b[39m.\u001b[39mtime\u001b[39m.\u001b[39mshape[\u001b[39m0\u001b[39m], \u001b[39m# number of time steps in your data.\u001b[39;00m\n\u001b[1;32m      5\u001b[0m                                         region\u001b[39m=\u001b[39m\u001b[39m'\u001b[39m\u001b[39meurope\u001b[39m\u001b[39m'\u001b[39m \u001b[39m# 'switzerland'/'ch' or 'europe'\u001b[39;00m\n\u001b[1;32m      6\u001b[0m                                     )\n",
      "File \u001b[0;32m/scratch/tlezuo/miniconda3/envs/psyplot/lib/python3.9/site-packages/iconarray/core/interpolate.py:137\u001b[0m, in \u001b[0;36mremap_ICON_to_regulargrid\u001b[0;34m(data_file, in_grid_file, num_dates, region)\u001b[0m\n\u001b[1;32m    135\u001b[0m \u001b[39m# LOG file\u001b[39;00m\n\u001b[1;32m    136\u001b[0m \u001b[39mwith\u001b[39;00m \u001b[39mopen\u001b[39m(output_dir \u001b[39m/\u001b[39m \u001b[39m\"\u001b[39m\u001b[39mLOG_ICON_REG_REMAP.txt\u001b[39m\u001b[39m\"\u001b[39m, \u001b[39m\"\u001b[39m\u001b[39mw\u001b[39m\u001b[39m\"\u001b[39m) \u001b[39mas\u001b[39;00m f:\n\u001b[0;32m--> 137\u001b[0m     log_fx(f, remap_namelist_path)\n\u001b[1;32m    139\u001b[0m \u001b[39mwith\u001b[39;00m \u001b[39mopen\u001b[39m(output_dir \u001b[39m/\u001b[39m \u001b[39m\"\u001b[39m\u001b[39mLOG_ICON_REG_REMAP.txt\u001b[39m\u001b[39m\"\u001b[39m, \u001b[39m\"\u001b[39m\u001b[39mr\u001b[39m\u001b[39m\"\u001b[39m) \u001b[39mas\u001b[39;00m f:\n\u001b[1;32m    140\u001b[0m     print_status(f, output_dir, file_out)\n",
      "File \u001b[0;32m/scratch/tlezuo/miniconda3/envs/psyplot/lib/python3.9/site-packages/iconarray/core/interpolate.py:197\u001b[0m, in \u001b[0;36mlog_fx\u001b[0;34m(f, remap_namelist_path)\u001b[0m\n\u001b[1;32m    195\u001b[0m \u001b[39mexcept\u001b[39;00m subprocess\u001b[39m.\u001b[39mCalledProcessError \u001b[39mas\u001b[39;00m e:\n\u001b[1;32m    196\u001b[0m     return_code \u001b[39m=\u001b[39m e\u001b[39m.\u001b[39mreturncode\n\u001b[0;32m--> 197\u001b[0m     \u001b[39mraise\u001b[39;00m \u001b[39mException\u001b[39;00m(\n\u001b[1;32m    198\u001b[0m         \u001b[39m\"\u001b[39m\u001b[39mError running fieldextra. CalledProcessError, Return Code: \u001b[39m\u001b[39m\"\u001b[39m\n\u001b[1;32m    199\u001b[0m         \u001b[39m+\u001b[39m \u001b[39mstr\u001b[39m(return_code)\n\u001b[1;32m    200\u001b[0m     )\n",
      "\u001b[0;31mException\u001b[0m: Error running fieldextra. CalledProcessError, Return Code: 126"
     ]
    }
   ],
   "source": [
    "output_file = iconvis.remap_ICON_to_regulargrid(\n",
    "                                        data_file=f_icon,\n",
    "                                        in_grid_file=gridfile,\n",
    "                                        num_dates=ds.time.shape[0], # number of time steps in your data.\n",
    "                                        region='europe' # 'switzerland'/'ch' or 'europe'\n",
    "                                    )"
   ]
  },
  {
   "cell_type": "code",
   "execution_count": null,
   "id": "5a003cd4",
   "metadata": {},
   "outputs": [
    {
     "ename": "",
     "evalue": "",
     "output_type": "error",
     "traceback": [
      "\u001b[1;31mRunning cells with 'Python 3.6.8 64-bit' requires ipykernel package.\n",
      "\u001b[1;31mRun the following command to install 'ipykernel' into the Python environment. \n",
      "\u001b[1;31mCommand: '/bin/python3 -m pip install ipykernel -U --user --force-reinstall'"
     ]
    }
   ],
   "source": [
    "ds_interp = psy.open_dataset(output_file)\n",
    "\n",
    "ds_interp.U.encoding['coordinates'] = 'x_1 y_1'\n",
    "ds_interp.V.encoding['coordinates'] = 'x_1 y_1'\n",
    "\n",
    "ds_interp"
   ]
  },
  {
   "cell_type": "markdown",
   "id": "6186238c",
   "metadata": {},
   "source": [
    "#### Note\n",
    "The remap_ICON_to_regulargrid module has only been tested/written for netcdf, with U,V variables, and creating a regular grid region over Switzerland or Europe). If the namelist generation doesnt work for your data, you can alternatively modify the NAMELIST_ICON_REG_REMAP file and run fieldextra yourself. For example on Tsa, in your shell you can run:\n",
    "\n",
    "`/project/s83c/fieldextra/tsa/bin/fieldextra_gnu_opt_omp NAMELIST_ICON_REG_REMAP` \n",
    "\n",
    "You can define the output location and use that as input to psyplot, as in next step.\n",
    "\n",
    "Note: \n",
    "To use fieldextra it may be necessary to relax system limits imposed on size of\n",
    "stack, both for sequential mode and for OpenMP mode. A typical set of command\n",
    "lines to apply on a Linux or UNIX system is:\n",
    "\n",
    "`ulimit -s unlimited` - unlimit stack size\n",
    " \n",
    "`export OMP_STACKSIZE=500M` - increase OpenMP stack size"
   ]
  },
  {
   "cell_type": "code",
   "execution_count": null,
   "id": "7171f119",
   "metadata": {},
   "outputs": [
    {
     "ename": "",
     "evalue": "",
     "output_type": "error",
     "traceback": [
      "\u001b[1;31mRunning cells with 'Python 3.6.8 64-bit' requires ipykernel package.\n",
      "\u001b[1;31mRun the following command to install 'ipykernel' into the Python environment. \n",
      "\u001b[1;31mCommand: '/bin/python3 -m pip install ipykernel -U --user --force-reinstall'"
     ]
    }
   ],
   "source": [
    "mapvectors = ds_interp.psy.plot.mapvector(time=0,\n",
    "                                lonlatbox=[0.,17.,42.,50.],\n",
    "                                map_extent='data',\n",
    "                                name=[['U', 'V']],\n",
    "                                density=0.5, arrowsize=400,\n",
    "                                z_1=8, \n",
    "                                borders=True, meanmax_wind=False,\n",
    "                                title='Vector Plot after interpolating ICON data to Regular Grid')"
   ]
  },
  {
   "cell_type": "markdown",
   "id": "649afb2c",
   "metadata": {},
   "source": [
    "### Remap ICON grid to coarser ICON grid for wind plotting"
   ]
  },
  {
   "cell_type": "code",
   "execution_count": null,
   "id": "b48a1cec",
   "metadata": {
    "scrolled": true
   },
   "outputs": [
    {
     "ename": "",
     "evalue": "",
     "output_type": "error",
     "traceback": [
      "\u001b[1;31mRunning cells with 'Python 3.6.8 64-bit' requires ipykernel package.\n",
      "\u001b[1;31mRun the following command to install 'ipykernel' into the Python environment. \n",
      "\u001b[1;31mCommand: '/bin/python3 -m pip install ipykernel -U --user --force-reinstall'"
     ]
    }
   ],
   "source": [
    "out_grid_file='../data/example_data/grids/mch_ch_coarsegrid_wind_R19B04.nc'\n",
    "\n",
    "output_file_2 = iconvis.remap_ICON_to_ICON(data_file=f_icon,\n",
    "                                        in_grid_file=gridfile,\n",
    "                                        out_grid_file=out_grid_file, # grid in output, eg R19B04, low resolution\n",
    "                                        num_dates=ds.time.shape[0] # number of time steps in your data.\n",
    "                                              ) \n",
    "\n",
    "print('Interpolated data stored at: '+ str(output_file_2))"
   ]
  },
  {
   "cell_type": "code",
   "execution_count": null,
   "id": "fd990459",
   "metadata": {},
   "outputs": [
    {
     "ename": "",
     "evalue": "",
     "output_type": "error",
     "traceback": [
      "\u001b[1;31mRunning cells with 'Python 3.6.8 64-bit' requires ipykernel package.\n",
      "\u001b[1;31mRun the following command to install 'ipykernel' into the Python environment. \n",
      "\u001b[1;31mCommand: '/bin/python3 -m pip install ipykernel -U --user --force-reinstall'"
     ]
    }
   ],
   "source": [
    "ds_interp_2 = psy.open_dataset(output_file_2)"
   ]
  },
  {
   "cell_type": "code",
   "execution_count": null,
   "id": "00218b43",
   "metadata": {},
   "outputs": [
    {
     "ename": "",
     "evalue": "",
     "output_type": "error",
     "traceback": [
      "\u001b[1;31mRunning cells with 'Python 3.6.8 64-bit' requires ipykernel package.\n",
      "\u001b[1;31mRun the following command to install 'ipykernel' into the Python environment. \n",
      "\u001b[1;31mCommand: '/bin/python3 -m pip install ipykernel -U --user --force-reinstall'"
     ]
    }
   ],
   "source": [
    "mapvectors = ds_interp_2.psy.plot.mapvector(time=0,\n",
    "                                map_extent=[5.5, 11.0, 45.5, 48.0], \n",
    "                                name=[['U', 'V']],\n",
    "                                density=15, arrowsize=400, z_1=8, \n",
    "                                borders=True, meanmax_wind=False,\n",
    "                                title='Vector Plot after interpolating ICON data to coarser ICON Grid')"
   ]
  },
  {
   "cell_type": "markdown",
   "id": "01195d30",
   "metadata": {},
   "source": [
    "# Stream plot"
   ]
  },
  {
   "cell_type": "code",
   "execution_count": null,
   "id": "4add4b25",
   "metadata": {},
   "outputs": [
    {
     "ename": "",
     "evalue": "",
     "output_type": "error",
     "traceback": [
      "\u001b[1;31mRunning cells with 'Python 3.6.8 64-bit' requires ipykernel package.\n",
      "\u001b[1;31mRun the following command to install 'ipykernel' into the Python environment. \n",
      "\u001b[1;31mCommand: '/bin/python3 -m pip install ipykernel -U --user --force-reinstall'"
     ]
    }
   ],
   "source": [
    "mapvectors = ds_interp.psy.plot.mapvector(time=0,plot='stream', linewidth=['absolute', 0.1],\n",
    "                                lonlatbox=[5.5, 11.0, 45.5, 48.0], \n",
    "                                name=[['U', 'V']],\n",
    "                                z_1=8, \n",
    "                                borders = {'color': 'grey', 'linewidth': 1.0},\n",
    "                                xgrid=None, ygrid=None, meanmax_wind=True,\n",
    "                                title='Stream Plot after interpolating ICON data to regular grid')"
   ]
  },
  {
   "cell_type": "markdown",
   "id": "c6b418c1",
   "metadata": {},
   "source": [
    "# Quiver plot - example with ICON data, before interpolation to coarser grid.\n",
    "\n",
    "Result is mainly all black due to high density of arrows. This grid has > 1 million cells."
   ]
  },
  {
   "cell_type": "code",
   "execution_count": null,
   "id": "310cb1e6",
   "metadata": {},
   "outputs": [
    {
     "ename": "",
     "evalue": "",
     "output_type": "error",
     "traceback": [
      "\u001b[1;31mRunning cells with 'Python 3.6.8 64-bit' requires ipykernel package.\n",
      "\u001b[1;31mRun the following command to install 'ipykernel' into the Python environment. \n",
      "\u001b[1;31mCommand: '/bin/python3 -m pip install ipykernel -U --user --force-reinstall'"
     ]
    }
   ],
   "source": [
    "mapvector_1 = psy.plot.mapvector(ds, time=0, plot='quiver',\n",
    "                                map_extent=[5.5, 11.0, 45.5, 48.0], \n",
    "                                name=[['U', 'V']],\n",
    "                                arrowsize=100, \n",
    "                                borders=True)"
   ]
  }
 ],
 "metadata": {
  "kernelspec": {
   "display_name": "Python 3.9.7 ('psyplot')",
   "language": "python",
   "name": "python3"
  },
  "language_info": {
   "codemirror_mode": {
    "name": "ipython",
    "version": 3
   },
   "file_extension": ".py",
   "mimetype": "text/x-python",
   "name": "python",
   "nbconvert_exporter": "python",
   "pygments_lexer": "ipython3",
   "version": "3.9.7"
  },
  "vscode": {
   "interpreter": {
    "hash": "478e531c87c13fe08171e1b9df5753f0dadfbce7da2a4d3339f723631ea7933b"
   }
  }
 },
 "nbformat": 4,
 "nbformat_minor": 5
}

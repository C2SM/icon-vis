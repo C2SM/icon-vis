{
 "cells": [
  {
   "cell_type": "markdown",
   "id": "2ba574ce",
   "metadata": {},
   "source": [
    "# Combined plots - vector and scalar map"
   ]
  },
  {
   "cell_type": "code",
   "execution_count": null,
   "id": "3ccb5e3d",
   "metadata": {},
   "outputs": [],
   "source": [
    "%load_ext autoreload\n",
    "%autoreload 2"
   ]
  },
  {
   "cell_type": "code",
   "execution_count": null,
   "id": "c79fb7fe",
   "metadata": {},
   "outputs": [],
   "source": [
    "%matplotlib widget"
   ]
  },
  {
   "cell_type": "code",
   "execution_count": null,
   "id": "7df0ab10",
   "metadata": {},
   "outputs": [],
   "source": [
    "import psyplot.project as psy\n",
    "\n",
    "import numpy as np\n",
    "import xarray as xr\n",
    "import matplotlib.pyplot as plt\n",
    "import cartopy.crs as ccrs\n",
    "from IPython.display import display, Video\n",
    "\n",
    "from ipympl.backend_nbagg import Canvas\n",
    "Canvas.header_visible.default_value = False\n",
    "\n",
    "import warnings\n",
    "warnings.filterwarnings(\"ignore\", r\"\\s*The on_mappable_changed\")\n",
    "warnings.filterwarnings(\"ignore\", r\"\\s*The input coordinates\")\n",
    "warnings.filterwarnings(\"ignore\", r\"\\s*shading=\")\n",
    "warnings.filterwarnings(\"ignore\", r\"\\s*\\[Warning by\")\n",
    "warnings.filterwarnings(\"ignore\", r\"\\s*ShapelyDeprecationWarning\")\n",
    "\n",
    "from iconarray.plot import formatoptions # import plotting formatoptions (for use with psyplot)\n",
    "import iconarray as iconvis # import icon-vis self-written modules"
   ]
  },
  {
   "cell_type": "code",
   "execution_count": null,
   "id": "8e535240",
   "metadata": {},
   "outputs": [],
   "source": [
    "iconvis.get_example_data()"
   ]
  },
  {
   "cell_type": "code",
   "execution_count": null,
   "id": "503b614d",
   "metadata": {},
   "outputs": [],
   "source": [
    "f_icon      = '../data/example_data/grib/lfff00000000_uv'\n",
    "gridfile = '../data/example_data/grids/opr_r19b08'"
   ]
  },
  {
   "cell_type": "code",
   "execution_count": null,
   "id": "4a3210ca",
   "metadata": {},
   "outputs": [],
   "source": [
    "# The icon file is in GRIB format, so we require the cfgrib engine to open. \n",
    "# If you look a the resulting xarray dataset you can see there is no grid data, so we need to merge it, see next cell.\n",
    "\n",
    "ds_grib = psy.open_dataset(f_icon, engine='cfgrib', backend_kwargs={'indexpath': '', 'errors': 'ignore'})\n",
    "ds_grib"
   ]
  },
  {
   "cell_type": "code",
   "execution_count": null,
   "id": "e30deaf8",
   "metadata": {},
   "outputs": [],
   "source": [
    "ds = iconvis.combine_grid_information(ds_grib, gridfile)\n",
    "ds"
   ]
  },
  {
   "cell_type": "code",
   "execution_count": null,
   "id": "edc10f6f",
   "metadata": {},
   "outputs": [],
   "source": [
    "# Dont plot with x and y gridlines\n",
    "psy.rcParams[\"plotter.maps.xgrid\"] = False\n",
    "psy.rcParams[\"plotter.maps.ygrid\"] = False\n",
    "psy.rcParams[\"plotter.maps.grid_settings\"] = {'visible': False}\n",
    "psy.rcParams[\"plotter.maps.grid_labelsize\"] = 'x-small'"
   ]
  },
  {
   "cell_type": "code",
   "execution_count": null,
   "id": "59003002",
   "metadata": {},
   "outputs": [],
   "source": [
    "from psy_simple.plotters import CMap, Bounds\n",
    "from psy_maps.plotters import Transform, MapPlot2D, LonLatBox, MapPlotter\n",
    "from psyplot.plotter import Plotter\n",
    "import psy_simple.plotters\n",
    "import psy_maps.plotters\n",
    "import cartopy.crs as ccrs\n",
    "import matplotlib.pyplot as plt"
   ]
  },
  {
   "cell_type": "markdown",
   "id": "c6b418c1",
   "metadata": {},
   "source": [
    "# Quiver plot\n",
    "\n",
    "### Example with ICON data, before interpolation to regular grid\n",
    "\n",
    "Result is mainly all black due to high density of arrows."
   ]
  },
  {
   "cell_type": "code",
   "execution_count": null,
   "id": "310cb1e6",
   "metadata": {},
   "outputs": [],
   "source": [
    "combinedplot_1 = psy.plot.mapcombined(ds,\n",
    "            name=[['t',['u','v']]], \n",
    "            generalVerticalLayer=50, time=0, datagrid={'c': 'k', 'lw': 0.1},\n",
    "            borders=True, \n",
    "            cmap='Reds', \n",
    "            arrowsize=100, \n",
    "            vcbar='r',\n",
    "            clabel='{desc}', \n",
    "            vclabel='Wind Speed [%(units)s]',\n",
    "            #map_extent=[5.5, 11.0, 45.5, 48.0]\n",
    "            )"
   ]
  },
  {
   "cell_type": "code",
   "execution_count": null,
   "id": "f24410e5",
   "metadata": {},
   "outputs": [],
   "source": [
    "# Zoom in to small area to see that data is plotted correctly, but the plot was not useful when viewing entire region.\n",
    "combinedplot_1.update(map_extent=[7.8, 8.0, 47.0, 47.1])"
   ]
  },
  {
   "cell_type": "markdown",
   "id": "83baeb96",
   "metadata": {},
   "source": [
    "### Remap ICON wind data to Regular grid for plotting\n",
    "\n",
    "ICON data can be too dense to plot wind barbs nicely, so to reduce the density of barbs, we can first interpolate the data to regular grid."
   ]
  },
  {
   "cell_type": "markdown",
   "id": "c2f27c30",
   "metadata": {},
   "source": [
    "#### Fieldextra interpolation"
   ]
  },
  {
   "cell_type": "code",
   "execution_count": null,
   "id": "b3e7e7fb",
   "metadata": {},
   "outputs": [],
   "source": [
    "output_file = iconvis.remap_ICON_to_regulargrid(\n",
    "                                        data_file=f_icon,\n",
    "                                        in_grid_file=gridfile,\n",
    "                                        num_dates=ds.time.shape[0], # number of time steps in your data.\n",
    "                                        region='ch' # 'switzerland'/'ch' or 'europe'\n",
    "                                    )"
   ]
  },
  {
   "cell_type": "code",
   "execution_count": null,
   "id": "a61b01cf",
   "metadata": {},
   "outputs": [],
   "source": [
    "print(output_file)\n",
    "\n",
    "ds_interp = psy.open_dataset(output_file)\n",
    "ds_interp"
   ]
  },
  {
   "cell_type": "code",
   "execution_count": null,
   "id": "bd6e6ef9",
   "metadata": {},
   "outputs": [],
   "source": [
    "ds_interp.U.encoding['coordinates'] = 'x_1 y_1'\n",
    "ds_interp.V.encoding['coordinates'] = 'x_1 y_1'"
   ]
  },
  {
   "cell_type": "markdown",
   "id": "6186238c",
   "metadata": {},
   "source": [
    "#### Note\n",
    "The remap_ICON_to_regulargrid module has only been tested/written for netcdf, with U,V variables, and creating a regular grid region over Switzerland). If the namelist generation doesnt work for your data, you can alternatively modify the NAMELIST_ICON_REG_REMAP file and run fieldextra yourself. For example on Tsa, in your shell you can run:\n",
    "\n",
    "`/project/s83c/fieldextra/tsa/bin/fieldextra_gnu_opt_omp NAMELIST_ICON_REG_REMAP` \n",
    "\n",
    "You can define the output location and use that as input to psyplot, as in next step."
   ]
  },
  {
   "cell_type": "code",
   "execution_count": null,
   "id": "6c1ce6ff",
   "metadata": {},
   "outputs": [],
   "source": [
    "import psyplot.data as psyd\n",
    "\n",
    "uv = ds_interp.psy.create_list(name=[[\"U\", \"V\"]], time=0, z=79, squeeze=True)[0] # regular grid wind data\n",
    "temp = ds.psy.create_list(name=\"t\", t=0, z=79)[0]  # icon grid temperature data\n"
   ]
  },
  {
   "cell_type": "code",
   "execution_count": null,
   "id": "4a2d6f84",
   "metadata": {},
   "outputs": [],
   "source": [
    "data = psyd.InteractiveList([temp, uv])"
   ]
  },
  {
   "cell_type": "code",
   "execution_count": null,
   "id": "01a0d885",
   "metadata": {},
   "outputs": [],
   "source": [
    "plotter = psy.plot.mapcombined.plotter_cls(data)"
   ]
  },
  {
   "cell_type": "code",
   "execution_count": null,
   "id": "d6ea1c1f",
   "metadata": {},
   "outputs": [],
   "source": [
    "from psyplot.project import Project\n",
    "project = Project([data])"
   ]
  },
  {
   "cell_type": "code",
   "execution_count": null,
   "id": "0d8ed050",
   "metadata": {},
   "outputs": [],
   "source": [
    "project.update(\n",
    "    borders=True,\n",
    "    cmap='Reds',\n",
    "    density=0.4, \n",
    "    arrowsize=200,\n",
    "    map_extent=[6.9, 10.2, 45.3, 47.5],\n",
    "   vplot='quiver',\n",
    "clabel='{desc}',\n",
    "title='Combined Scalar and Vector Plot after Interpolation')"
   ]
  },
  {
   "cell_type": "code",
   "execution_count": null,
   "id": "40154313",
   "metadata": {},
   "outputs": [],
   "source": [
    "plt.ioff()\n",
    "\n",
    "with project as sp:\n",
    "    sp.export('combined_plot.png')\n",
    "\n",
    "plt.ion()"
   ]
  }
 ],
 "metadata": {
  "interpreter": {
   "hash": "170645ef7ac58b39837542d470b6ce8ac57fc652ee78fcd6a240148828d3f9c8"
  },
  "kernelspec": {
   "display_name": "Python 3 (ipykernel)",
   "language": "python",
   "name": "python3"
  },
  "language_info": {
   "codemirror_mode": {
    "name": "ipython",
    "version": 3
   },
   "file_extension": ".py",
   "mimetype": "text/x-python",
   "name": "python",
   "nbconvert_exporter": "python",
   "pygments_lexer": "ipython3",
   "version": "3.9.14"
  }
 },
 "nbformat": 4,
 "nbformat_minor": 5
}

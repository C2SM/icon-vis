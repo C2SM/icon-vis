{
 "cells": [
  {
   "cell_type": "markdown",
   "metadata": {},
   "source": [
    "This plot shows pollen health impact classes over the Alps on the 15th of February 2020 at 8 o'clock in the evening. Displayed are hourly values for Alder (Alnus) pollen and was kindly provided by Simon Adamov. The field is produced by the COSMO-1E weather model, on the typical COSMO-1E domain over the greater alpine area. For easier understanding the numeric pollen concentrations are converted into health impact classes. These classes are then presented to the public using animated pollen maps in the MeteoSwiss-App. "
   ]
  },
  {
   "cell_type": "code",
   "execution_count": null,
   "metadata": {},
   "outputs": [],
   "source": [
    "# Import packages\n",
    "import iconarray\n",
    "import numpy as np\n",
    "import psyplot.project as psy\n",
    "import xarray as xr"
   ]
  },
  {
   "cell_type": "code",
   "execution_count": null,
   "metadata": {},
   "outputs": [],
   "source": [
    "# show figures after they are drawn or updated\n",
    "psy.rcParams['auto_show'] = True\n",
    "%matplotlib inline\n",
    "%config InlineBackend.close_figures = False"
   ]
  },
  {
   "cell_type": "code",
   "execution_count": null,
   "metadata": {},
   "outputs": [],
   "source": [
    "# Get example datasets for testing (won't do anything if data is already downloaded)\n",
    "iconarray.get_example_data()"
   ]
  },
  {
   "cell_type": "code",
   "execution_count": null,
   "metadata": {},
   "outputs": [],
   "source": [
    "# Open dataset\n",
    "ds = xr.open_dataset(\"../data/example_data/pyvis/cosmo_pollen.nc\")"
   ]
  },
  {
   "cell_type": "code",
   "execution_count": null,
   "metadata": {},
   "outputs": [],
   "source": [
    "# Divide data into bins\n",
    "ds[\"ALNU\"].values = np.digitize(ds[\"ALNU\"].values, bins=[1, 10, 70, 250])"
   ]
  },
  {
   "cell_type": "code",
   "execution_count": null,
   "metadata": {},
   "outputs": [],
   "source": [
    "pollen_plot = ds.psy.plot.mapplot(\n",
    "    name=\"ALNU\",\n",
    "    title=\"Alder Pollen in the Alpine Region on 2020-02-15 20h\",\n",
    "    titlesize=15,\n",
    "    lakes=True,\n",
    "    borders=True,\n",
    "    rivers=True,\n",
    "    grid_color=\"white\",\n",
    "    cticksize=8,\n",
    "    clabel=\"Health Impact Categories\",\n",
    "    grid_labelsize=8,\n",
    "    projection=\"robin\",\n",
    "    cmap=\"viridis\")"
   ]
  },
  {
   "cell_type": "code",
   "execution_count": null,
   "metadata": {},
   "outputs": [],
   "source": [
    "# Replace the colorbar ticks with the categories\n",
    "colorbar_ticks = [0.5, 1.5, 2.5, 3.5, 4.5]\n",
    "colorbar_bounds = list(range(0, 6, 1))\n",
    "colorbar_tickslabel = [\"nothing\", \"weak\", \"medium\", \"strong\", \"very strong\"]\n",
    "pollen_plot.update(bounds=colorbar_bounds, cticks=colorbar_ticks, cticklabels=colorbar_tickslabel)"
   ]
  }
 ],
 "metadata": {
  "kernelspec": {
   "display_name": "Python 3 (ipykernel)",
   "language": "python",
   "name": "python3"
  },
  "language_info": {
   "codemirror_mode": {
    "name": "ipython",
    "version": 3
   },
   "file_extension": ".py",
   "mimetype": "text/x-python",
   "name": "python",
   "nbconvert_exporter": "python",
   "pygments_lexer": "ipython3",
   "version": "3.9.14"
  },
  "vscode": {
   "interpreter": {
    "hash": "8461325da64fb0d34dde72261ee183b909101a2f4d8537238d9177fc08f3947e"
   }
  }
 },
 "nbformat": 4,
 "nbformat_minor": 2
}
